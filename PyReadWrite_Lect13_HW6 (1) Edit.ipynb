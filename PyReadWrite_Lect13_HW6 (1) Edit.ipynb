{
 "cells": [
  {
   "cell_type": "markdown",
   "metadata": {},
   "source": [
    "# Lecture 13 - Reading and Writing files"
   ]
  },
  {
   "cell_type": "markdown",
   "metadata": {
    "slideshow": {
     "slide_type": "slide"
    }
   },
   "source": [
    "We have already talked about built-in Python types, but there are more types that we did not speak about. One of these is the ``file()`` object which can be used to read or write files."
   ]
  },
  {
   "cell_type": "markdown",
   "metadata": {},
   "source": [
    "## Reading files"
   ]
  },
  {
   "cell_type": "markdown",
   "metadata": {
    "slideshow": {
     "slide_type": "slide"
    }
   },
   "source": [
    "Let's try and get the contents of the file into IPython. We start off by creating a file object:"
   ]
  },
  {
   "cell_type": "code",
   "execution_count": 1,
   "metadata": {},
   "outputs": [],
   "source": [
    "f = open('data1.txt', 'r')"
   ]
  },
  {
   "cell_type": "markdown",
   "metadata": {},
   "source": [
    "The ``open`` function is taking the [data1.txt](data1.txt) file, opening it, and returning an object (which we call ``f``) that can then be used to access the data."
   ]
  },
  {
   "cell_type": "markdown",
   "metadata": {
    "slideshow": {
     "slide_type": "slide"
    }
   },
   "source": [
    "Note that ``f`` is not the data in the file, it is what is called a *file handle*, which points to the file:"
   ]
  },
  {
   "cell_type": "code",
   "execution_count": 2,
   "metadata": {},
   "outputs": [
    {
     "data": {
      "text/plain": [
       "_io.TextIOWrapper"
      ]
     },
     "execution_count": 2,
     "metadata": {},
     "output_type": "execute_result"
    }
   ],
   "source": [
    "type(f)"
   ]
  },
  {
   "cell_type": "markdown",
   "metadata": {
    "slideshow": {
     "slide_type": "slide"
    }
   },
   "source": [
    "Now, simply type:"
   ]
  },
  {
   "cell_type": "code",
   "execution_count": 3,
   "metadata": {},
   "outputs": [
    {
     "data": {
      "text/plain": [
       "'RAJ        DEJ                          Jmag   e_Jmag\\n2000 (deg) 2000 (deg) 2MASS             (mag)  (mag) \\n---------- ---------- ----------------- ------ ------\\n010.684737 +41.269035 00424433+4116085   9.453  0.052\\n010.683469 +41.268585 00424403+4116069   9.321  0.022\\n010.685657 +41.269550 00424455+4116103  10.773  0.069\\n010.686026 +41.269226 00424464+4116092   9.299  0.063\\n010.683465 +41.269676 00424403+4116108  11.507  0.056\\n010.686015 +41.269630 00424464+4116106   9.399  0.045\\n010.685270 +41.267124 00424446+4116016  12.070  0.035\\n'"
      ]
     },
     "execution_count": 3,
     "metadata": {},
     "output_type": "execute_result"
    }
   ],
   "source": [
    "f.read()"
   ]
  },
  {
   "cell_type": "markdown",
   "metadata": {
    "slideshow": {
     "slide_type": "-"
    }
   },
   "source": [
    "The ``read()`` function basically just read the whole file and put the contents inside a string."
   ]
  },
  {
   "cell_type": "markdown",
   "metadata": {
    "slideshow": {
     "slide_type": "slide"
    }
   },
   "source": [
    "Let's try this again:"
   ]
  },
  {
   "cell_type": "code",
   "execution_count": 4,
   "metadata": {},
   "outputs": [
    {
     "data": {
      "text/plain": [
       "''"
      ]
     },
     "execution_count": 4,
     "metadata": {},
     "output_type": "execute_result"
    }
   ],
   "source": [
    "f.read()"
   ]
  },
  {
   "cell_type": "markdown",
   "metadata": {},
   "source": [
    "What's happened? We read the file, and the file 'pointer' is now sitting at the end of the file, and there is nothing left to read."
   ]
  },
  {
   "cell_type": "markdown",
   "metadata": {
    "slideshow": {
     "slide_type": "slide"
    }
   },
   "source": [
    "Let's now try and do something more useful, and capture the contents of the file in a string:"
   ]
  },
  {
   "cell_type": "code",
   "execution_count": 5,
   "metadata": {},
   "outputs": [],
   "source": [
    "f = open('data1.txt', 'r')\n",
    "data = f.read()"
   ]
  },
  {
   "cell_type": "markdown",
   "metadata": {
    "slideshow": {
     "slide_type": "slide"
    }
   },
   "source": [
    "Now ``data`` should contain a string with the contents of the file:"
   ]
  },
  {
   "cell_type": "code",
   "execution_count": 6,
   "metadata": {},
   "outputs": [
    {
     "data": {
      "text/plain": [
       "'RAJ        DEJ                          Jmag   e_Jmag\\n2000 (deg) 2000 (deg) 2MASS             (mag)  (mag) \\n---------- ---------- ----------------- ------ ------\\n010.684737 +41.269035 00424433+4116085   9.453  0.052\\n010.683469 +41.268585 00424403+4116069   9.321  0.022\\n010.685657 +41.269550 00424455+4116103  10.773  0.069\\n010.686026 +41.269226 00424464+4116092   9.299  0.063\\n010.683465 +41.269676 00424403+4116108  11.507  0.056\\n010.686015 +41.269630 00424464+4116106   9.399  0.045\\n010.685270 +41.267124 00424446+4116016  12.070  0.035\\n'"
      ]
     },
     "execution_count": 6,
     "metadata": {},
     "output_type": "execute_result"
    }
   ],
   "source": [
    "data"
   ]
  },
  {
   "cell_type": "markdown",
   "metadata": {
    "slideshow": {
     "slide_type": "slide"
    }
   },
   "source": [
    "But what we'd really like to do is read the file line by line. There are several ways to do this, the simplest of which is to use a ``for`` loop in the following way:"
   ]
  },
  {
   "cell_type": "code",
   "execution_count": 7,
   "metadata": {},
   "outputs": [
    {
     "name": "stdout",
     "output_type": "stream",
     "text": [
      "'RAJ        DEJ                          Jmag   e_Jmag\\n'\n",
      "'2000 (deg) 2000 (deg) 2MASS             (mag)  (mag) \\n'\n",
      "'---------- ---------- ----------------- ------ ------\\n'\n",
      "'010.684737 +41.269035 00424433+4116085   9.453  0.052\\n'\n",
      "'010.683469 +41.268585 00424403+4116069   9.321  0.022\\n'\n",
      "'010.685657 +41.269550 00424455+4116103  10.773  0.069\\n'\n",
      "'010.686026 +41.269226 00424464+4116092   9.299  0.063\\n'\n",
      "'010.683465 +41.269676 00424403+4116108  11.507  0.056\\n'\n",
      "'010.686015 +41.269630 00424464+4116106   9.399  0.045\\n'\n",
      "'010.685270 +41.267124 00424446+4116016  12.070  0.035\\n'\n"
     ]
    }
   ],
   "source": [
    "f = open('data1.txt', 'r')\n",
    "for line in f:\n",
    "    print(repr(line))"
   ]
  },
  {
   "cell_type": "markdown",
   "metadata": {
    "slideshow": {
     "slide_type": "skip"
    }
   },
   "source": [
    "Note that we are using ``repr()`` to show any invisible characters (this will be useful in a minute). Also note that we are now looping over a file rather than a list, and this automatically reads in the next line at each iteration. Each line is being returned as a string. Notice the ``\\n`` at the end of each line - this is a line return character, which indicates the end of a line."
   ]
  },
  {
   "cell_type": "markdown",
   "metadata": {
    "slideshow": {
     "slide_type": "slide"
    }
   },
   "source": [
    "Now we're reading in a file line by line, what would be nice would be to get some values out of it.  Let's examine the last line in detail. If we just type ``line`` we should see the last line that was printed in the loop:"
   ]
  },
  {
   "cell_type": "code",
   "execution_count": 8,
   "metadata": {},
   "outputs": [
    {
     "data": {
      "text/plain": [
       "'010.685270 +41.267124 00424446+4116016  12.070  0.035\\n'"
      ]
     },
     "execution_count": 8,
     "metadata": {},
     "output_type": "execute_result"
    }
   ],
   "source": [
    "line"
   ]
  },
  {
   "cell_type": "markdown",
   "metadata": {
    "slideshow": {
     "slide_type": "slide"
    }
   },
   "source": [
    "We can first get rid of the ``\\n`` character with:"
   ]
  },
  {
   "cell_type": "code",
   "execution_count": 9,
   "metadata": {},
   "outputs": [],
   "source": [
    "line = line.strip()"
   ]
  },
  {
   "cell_type": "code",
   "execution_count": 10,
   "metadata": {},
   "outputs": [
    {
     "data": {
      "text/plain": [
       "'010.685270 +41.267124 00424446+4116016  12.070  0.035'"
      ]
     },
     "execution_count": 10,
     "metadata": {},
     "output_type": "execute_result"
    }
   ],
   "source": [
    "line"
   ]
  },
  {
   "cell_type": "markdown",
   "metadata": {
    "slideshow": {
     "slide_type": "slide"
    }
   },
   "source": [
    "Next, we can use what we learned about strings and lists to do:"
   ]
  },
  {
   "cell_type": "code",
   "execution_count": 11,
   "metadata": {},
   "outputs": [],
   "source": [
    "columns = line.split()"
   ]
  },
  {
   "cell_type": "code",
   "execution_count": 12,
   "metadata": {},
   "outputs": [
    {
     "data": {
      "text/plain": [
       "['010.685270', '+41.267124', '00424446+4116016', '12.070', '0.035']"
      ]
     },
     "execution_count": 12,
     "metadata": {},
     "output_type": "execute_result"
    }
   ],
   "source": [
    "columns"
   ]
  },
  {
   "cell_type": "markdown",
   "metadata": {
    "slideshow": {
     "slide_type": "slide"
    }
   },
   "source": [
    "Finally, let's say we care about the object name (the 2MASS column), and the J band magnitude (the Jmag) column:"
   ]
  },
  {
   "cell_type": "code",
   "execution_count": 13,
   "metadata": {},
   "outputs": [],
   "source": [
    "name = columns[2]\n",
    "jmag = columns[3]"
   ]
  },
  {
   "cell_type": "code",
   "execution_count": 14,
   "metadata": {},
   "outputs": [
    {
     "data": {
      "text/plain": [
       "'00424446+4116016'"
      ]
     },
     "execution_count": 14,
     "metadata": {},
     "output_type": "execute_result"
    }
   ],
   "source": [
    "name"
   ]
  },
  {
   "cell_type": "code",
   "execution_count": 15,
   "metadata": {},
   "outputs": [
    {
     "data": {
      "text/plain": [
       "'12.070'"
      ]
     },
     "execution_count": 15,
     "metadata": {},
     "output_type": "execute_result"
    }
   ],
   "source": [
    "jmag"
   ]
  },
  {
   "cell_type": "markdown",
   "metadata": {
    "slideshow": {
     "slide_type": "slide"
    }
   },
   "source": [
    "Note that ``jmag`` is a string, but if we want a floating point number, we can instead do:"
   ]
  },
  {
   "cell_type": "code",
   "execution_count": 16,
   "metadata": {},
   "outputs": [],
   "source": [
    "jmag = float(columns[3])"
   ]
  },
  {
   "cell_type": "code",
   "execution_count": 17,
   "metadata": {},
   "outputs": [
    {
     "data": {
      "text/plain": [
       "12.07"
      ]
     },
     "execution_count": 17,
     "metadata": {},
     "output_type": "execute_result"
    }
   ],
   "source": [
    "jmag"
   ]
  },
  {
   "cell_type": "markdown",
   "metadata": {
    "slideshow": {
     "slide_type": "slide"
    }
   },
   "source": [
    "One last piece of information we need about files is how we can read a single line. This is done using:\n",
    "\n",
    "    line = f.readline()"
   ]
  },
  {
   "cell_type": "markdown",
   "metadata": {
    "slideshow": {
     "slide_type": "slide"
    }
   },
   "source": [
    "We can put all this together to write a little script to read the data from the file and display the columns we care about to the screen! Here is is:"
   ]
  },
  {
   "cell_type": "code",
   "execution_count": 18,
   "metadata": {},
   "outputs": [
    {
     "name": "stdout",
     "output_type": "stream",
     "text": [
      "00424433+4116085 9.453\n",
      "00424403+4116069 9.321\n",
      "00424455+4116103 10.773\n",
      "00424464+4116092 9.299\n",
      "00424403+4116108 11.507\n",
      "00424464+4116106 9.399\n",
      "00424446+4116016 12.07\n"
     ]
    }
   ],
   "source": [
    "# Open file\n",
    "f = open('data1.txt', 'r')\n",
    "\n",
    "# Read and ignore header lines\n",
    "header1 = f.readline()\n",
    "header2 = f.readline()\n",
    "header3 = f.readline()\n",
    "\n",
    "# Loop over lines and extract variables of interest\n",
    "for line in f:\n",
    "    line = line.strip()\n",
    "    columns = line.split()\n",
    "    name = columns[2]\n",
    "    jmag = float(columns[3])\n",
    "    print(name, jmag)"
   ]
  },
  {
   "cell_type": "markdown",
   "metadata": {},
   "source": [
    "## Exercise 1"
   ]
  },
  {
   "cell_type": "markdown",
   "metadata": {},
   "source": [
    "Here is a copy of the above code to read in the file. Modify this code so as to create a dictionary which gives ``Jmag`` for a given ``2MASS`` name, i.e.\n",
    "\n",
    "    >>> jmag['00424455+4116103']\n",
    "    10.773\n",
    "    \n",
    "Then loop over the items in the dictionary and print out for each the source name and the ``Jmag`` value."
   ]
  },
  {
   "cell_type": "code",
   "execution_count": 19,
   "metadata": {},
   "outputs": [
    {
     "name": "stdout",
     "output_type": "stream",
     "text": [
      "9.453\n",
      "9.321\n",
      "10.773\n",
      "9.299\n",
      "11.507\n",
      "9.399\n",
      "12.07\n"
     ]
    }
   ],
   "source": [
    "# EDIT THE CODE BELOW\n",
    "\n",
    "# Open file\n",
    "f = open('data1.txt', 'r')\n",
    "\n",
    "\n",
    "\n",
    "# Read and ignore header lines\n",
    "header1 = f.readline()\n",
    "header2 = f.readline()\n",
    "header3 = f.readline()\n",
    "\n",
    "jmag = {}\n",
    "# Loop over lines and extract variables of interest\n",
    "for line in f:\n",
    "    line = line.strip()\n",
    "    columns = line.split()\n",
    "    name = columns[2]\n",
    "    jmag[name] = float(columns[3])\n",
    "    \n",
    "print(jmag['00424433+4116085'])\n",
    "print(jmag['00424403+4116069'])\n",
    "print(jmag['00424455+4116103'])\n",
    "print(jmag['00424464+4116092'])\n",
    "print(jmag['00424403+4116108'])\n",
    "print(jmag['00424464+4116106'])\n",
    "print(jmag['00424446+4116016'])\n",
    "\n"
   ]
  },
  {
   "cell_type": "markdown",
   "metadata": {},
   "source": [
    "**Bonus:** can you figure out a way to make sure that you loop over the source names in alphabetical order?"
   ]
  },
  {
   "cell_type": "markdown",
   "metadata": {},
   "source": [
    "## Writing files"
   ]
  },
  {
   "cell_type": "markdown",
   "metadata": {
    "slideshow": {
     "slide_type": "slide"
    }
   },
   "source": [
    "To open a file for writing, use:"
   ]
  },
  {
   "cell_type": "code",
   "execution_count": 20,
   "metadata": {},
   "outputs": [],
   "source": [
    "f = open('data1.txt', 'r')"
   ]
  },
  {
   "cell_type": "markdown",
   "metadata": {
    "slideshow": {
     "slide_type": "slide"
    }
   },
   "source": [
    "Then simply use ``f.write()`` to write any content to the file, for example:"
   ]
  },
  {
   "cell_type": "code",
   "execution_count": 21,
   "metadata": {},
   "outputs": [
    {
     "ename": "UnsupportedOperation",
     "evalue": "not writable",
     "output_type": "error",
     "traceback": [
      "\u001b[1;31m---------------------------------------------------------------------------\u001b[0m",
      "\u001b[1;31mUnsupportedOperation\u001b[0m                      Traceback (most recent call last)",
      "Cell \u001b[1;32mIn[21], line 1\u001b[0m\n\u001b[1;32m----> 1\u001b[0m f\u001b[38;5;241m.\u001b[39mwrite(\u001b[38;5;124m\"\u001b[39m\u001b[38;5;124mHello, World!\u001b[39m\u001b[38;5;130;01m\\n\u001b[39;00m\u001b[38;5;124m\"\u001b[39m)\n",
      "\u001b[1;31mUnsupportedOperation\u001b[0m: not writable"
     ]
    }
   ],
   "source": [
    "f.write(\"Hello, World!\\n\")"
   ]
  },
  {
   "cell_type": "markdown",
   "metadata": {
    "slideshow": {
     "slide_type": "slide"
    }
   },
   "source": [
    "If you want to write multiple lines, you can either give a list of strings to the ``writelines()`` method:"
   ]
  },
  {
   "cell_type": "code",
   "execution_count": null,
   "metadata": {},
   "outputs": [],
   "source": [
    "f.writelines(['spam\\n', 'egg\\n', 'spam\\n'])"
   ]
  },
  {
   "cell_type": "markdown",
   "metadata": {},
   "source": [
    "or you can write them as a single string:"
   ]
  },
  {
   "cell_type": "code",
   "execution_count": null,
   "metadata": {},
   "outputs": [],
   "source": [
    "f.write('spam\\negg\\nspam\\n')"
   ]
  },
  {
   "cell_type": "markdown",
   "metadata": {
    "slideshow": {
     "slide_type": "slide"
    }
   },
   "source": [
    "Once you have finished writing data to a file, you need to close it:"
   ]
  },
  {
   "cell_type": "code",
   "execution_count": null,
   "metadata": {},
   "outputs": [],
   "source": [
    "f.close()"
   ]
  },
  {
   "cell_type": "markdown",
   "metadata": {},
   "source": [
    "(this also applies to reading files)"
   ]
  },
  {
   "cell_type": "markdown",
   "metadata": {},
   "source": [
    "## The with-statement"
   ]
  },
  {
   "cell_type": "markdown",
   "metadata": {},
   "source": [
    "As we have seen above, files must not just be opened but should be properly closed afterwards to make sure they are actually written before using them somewhere else. Sometimes writes to files get cached by Python to minimize actual writing to disk, which is comparably slow. Closing a file ensures that these changes are actually written.\n",
    "\n",
    "To avoid forgetting to close a file there is the with-statement."
   ]
  },
  {
   "cell_type": "code",
   "execution_count": null,
   "metadata": {},
   "outputs": [],
   "source": [
    "with open('data_new.txt', 'w') as f:\n",
    "    f.write('spam\\n')"
   ]
  },
  {
   "cell_type": "markdown",
   "metadata": {},
   "source": [
    "This opens the specified file and holds the file-object within ``f``, as well as closing the file when the with-codeblock ends. Afterwards, the file is properly closed and not available anymore."
   ]
  },
  {
   "cell_type": "markdown",
   "metadata": {},
   "source": [
    "## Exercise 2"
   ]
  },
  {
   "cell_type": "markdown",
   "metadata": {},
   "source": [
    "Continuing from the example in the 'Reading files' section, can you figure out a way to write out a new file containing two columns - the name of the source and the ``Jmag`` value?"
   ]
  },
  {
   "cell_type": "code",
   "execution_count": null,
   "metadata": {},
   "outputs": [],
   "source": [
    "# EDIT THE CODE BELOW\n",
    "\n",
    "# Open file\n",
    "f = open('data1.txt', 'r')\n",
    "g = open('data1_out.txt', 'w')\n",
    "\n",
    "# Read and ignore header lines\n",
    "header1 = f.readline()\n",
    "header2 = f.readline()\n",
    "header3 = f.readline()\n",
    "\n",
    "# Loop over lines and extract variables of interest\n",
    "for line in f:\n",
    "    line = line.strip()\n",
    "    columns = line.split()\n",
    "    name = columns[2]\n",
    "    jmag = float(columns[3])\n",
    "    g.write(name+\" \"+str(jmag)+\"\\n\")\n",
    "    print(name, jmag) \n",
    "    \n",
    "    \n",
    "f.close()\n",
    "g.close()\n",
    "    \n",
    "    \n"
   ]
  },
  {
   "cell_type": "markdown",
   "metadata": {},
   "source": [
    "## Notes"
   ]
  },
  {
   "cell_type": "markdown",
   "metadata": {
    "slideshow": {
     "slide_type": "skip"
    }
   },
   "source": [
    "The above shows you how you can read and write any data file. Of course, there are also functions that exist to help you read in data in certain formats (for example ``numpy`` contains a function ``numpy.loadtxt`` to read in arrays from files) but the key is that with the above, you can read any file, so any other function is then just making your life easier."
   ]
  },
  {
   "cell_type": "markdown",
   "metadata": {},
   "source": [
    "## Homework #6 \n",
    "\n",
    "**REMINDER:** *All coding assignment will be turned in as .ipynb files, to the same PHYS_X0223 repository on GitHub.*   \n",
    "*They should be turned in with the following naming:*\n",
    "    \n",
    "    Lastname_Firstinitial_23_HW#.ipynb\n",
    "    "
   ]
  },
  {
   "cell_type": "markdown",
   "metadata": {},
   "source": [
    "We learned basic error propigations in HW1.  \n",
    "\n",
    "Read in the data from 'data1.txt'.\n",
    "\n",
    "Write a function that will compute, what you did by hand in HW1, the mean and standard deviation of the 'Jmag' from the data points in the file we read in (data1.txt).\n",
    "\n",
    "Reminder:\n",
    "\n",
    "$$a = \\frac{\\sum_{i=1}^N (a_i/\\sigma_i^2)}{\\sum_{i=1}^N (1 / \\sigma_i^2) } \\;\\;\\;\\;\\;\\;\\;\\;\\;\\;\\;\\;\\;\\;\\;\\; 1/\\sigma^2 =  \\sum_{i=1}^N (1 / \\sigma_i^2)$$\n",
    "\n",
    "where $a_i = Jmag$  and $\\sigma_i = e\\_Jmag$\n",
    "\n",
    "**Write a code that will (1) read the file, (2) use the fuction, (3) print the results.**"
   ]
  },
  {
   "cell_type": "code",
   "execution_count": 7,
   "metadata": {},
   "outputs": [
    {
     "name": "stdout",
     "output_type": "stream",
     "text": [
      "num= 45523.73055880511\n",
      "denom= 4526.9619703003755\n",
      "a= 10.056132756905951\n",
      "o= 0.014862661163658223\n"
     ]
    }
   ],
   "source": [
    "import numpy as np\n",
    "\n",
    "def mean_error():\n",
    "\n",
    "   \n",
    "    f = open('data1.txt') \n",
    "       # f.write('spam\\n')    \n",
    "       \n",
    "    #jmag = []\n",
    "    #e_jmag = []\n",
    "    # Read and ignore header lines\n",
    "    header1 = f.readline()\n",
    "    header2 = f.readline()\n",
    "    header3 = f.readline()\n",
    "    num = 0\n",
    "    denom = 0\n",
    "    \n",
    "\n",
    "    # Loop over lines and extract variables of interest\n",
    "    for line in f:\n",
    "        line = line.strip()\n",
    "        columns = line.split()\n",
    "        ai=float(columns[3])\n",
    "        oi=float(columns[4])\n",
    "        #jmag.append(ai)\n",
    "        #e_jmag.append((oi))\n",
    "       \n",
    "       \n",
    "        num +=  ai / (oi**2)\n",
    "        denom += 1 / (oi**2)\n",
    "    \n",
    "        #ai = np.sum(ai)\n",
    "       # ai=ai/np.sum(oi**2)/np.sum(1/oi**2)\n",
    "        #oi = 1 / np.sum(1/oi**2)\n",
    "       \n",
    "         \n",
    "       # print(\"ai:\", ai)\n",
    "        #print(\"oi:\", oi)\n",
    "    print(\"num=\",num)\n",
    "    print(\"denom=\",denom)\n",
    "    \n",
    "\n",
    "    a = num / denom\n",
    "    o = 1 / np.sqrt(denom)\n",
    "    f.close() \n",
    "    print(\"a=\",a)\n",
    "    print(\"o=\",o)\n",
    "    #return ai, oi\n",
    " \n",
    "mean_error()\n"
   ]
  },
  {
   "cell_type": "code",
   "execution_count": null,
   "metadata": {},
   "outputs": [],
   "source": []
  }
 ],
 "metadata": {
  "kernelspec": {
   "display_name": "Python 3 (ipykernel)",
   "language": "python",
   "name": "python3"
  },
  "language_info": {
   "codemirror_mode": {
    "name": "ipython",
    "version": 3
   },
   "file_extension": ".py",
   "mimetype": "text/x-python",
   "name": "python",
   "nbconvert_exporter": "python",
   "pygments_lexer": "ipython3",
   "version": "3.11.4"
  }
 },
 "nbformat": 4,
 "nbformat_minor": 2
}
